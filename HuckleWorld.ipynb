{
 "cells": [
  {
   "cell_type": "markdown",
   "metadata": {},
   "source": [
    "### Huckle World\n",
    "Game Setup\n",
    "* 4x4 grid\n",
    "* Hurkle occupies one coordinate\n",
    "* User has a fixed number of guesses\n",
    "* Initial guess is random\n",
    "\n",
    "\n",
    "![Huckle](images/hucklew.png)\n"
   ]
  },
  {
   "cell_type": "markdown",
   "metadata": {},
   "source": [
    "\n",
    "\n",
    "Gameplay\n",
    "* If initial guess is correct:\n",
    "    * Game ends immediately\n",
    "    * Hurkle is \"caught\"\n",
    "* If guess is incorrect:\n",
    "    * Environment provides a directional clue\n",
    "    * Clue indicates one of eight directions: N, E, W, S, NE, SE, SW, NW\n",
    "    * User makes another guess based on the clue\n",
    "\n",
    "Game Progression\n",
    "* Continues until user guesses Hurkle's location correctly\n",
    "* Score = number of guesses used (lower is better)\n",
    "Key Points\n",
    "* Hurkle knows its own location\n",
    "* Only one Hurkle per game\n",
    "* Clues guide the user towards Hurkle's location\n",
    "* Game combines luck (initial guess) and strategy (using clues)\n",
    "\n",
    "\n",
    "In our case, we are going to focus on applying  Probabilistic Logic and do three tasks, as we are not developing the game itself.\n",
    "##### Task 1 :\n",
    "*  Create a basic logical representation of the Hurkle's location and test if the system can correctly identify an incorrect guess with the simplified configuration\n",
    "\n",
    "##### Task 2 :\n",
    "*  Add a constraint that the Hurkle's location can be only in 1 tile at a time,using mutual exclusion and probabilistic logical principles.\n",
    "  \n",
    "##### Task 3 :\n",
    "*  Add new symbols for all 8 directions: North, South , West, East, North-East, South-East, South-West, North-West\n",
    "*  Using the coordinates and our knowledge for it, we can provide hints to the user that the Hurkle is at a location, particularly\n",
    "*   Run one example check in your notebook. Your check for NW should call\n",
    "the usual inference mechanism as shown below:\n",
    "ask_if_true"
   ]
  },
  {
   "cell_type": "markdown",
   "metadata": {},
   "source": [
    "#### Task 1 \n",
    "\n",
    "In this simple environment, the knowledge base (KB) is only told about the true location of the Hurkle (H21). The inference system checks whether H42 is true (which it is not in our case). The KB is unable to deduce that the guess is false, because it simply lacks the necessary information to make this inference on its own. \n",
    "\n",
    "\n",
    "The tell() method is used to add the Hurkle's true location to the KB, and ask_if_true() is used to query whether a specific location (in this case, H42) is true or false. However, without additional constraints, the KB cannot infer that H42 must be false simply because H21 is true. \n",
    "\n",
    "This implementation demonstrates the limitations of a simple KB without mutual exclusion constraints, as it cannot make complex inferences about the Hurkle's location based solely on knowing one true location."
   ]
  },
  {
   "cell_type": "code",
   "execution_count": 1,
   "metadata": {},
   "outputs": [
    {
     "data": {
      "text/plain": [
       "(False, False)"
      ]
     },
     "execution_count": 1,
     "metadata": {},
     "output_type": "execute_result"
    }
   ],
   "source": [
    "from logic import *\n",
    "\n",
    "# Call the KB \n",
    "hurkleWorld = PropKB()\n",
    "\n",
    "# Symbol for each possible position in the grid\n",
    "H11, H21, H31, H41 = expr('H11'), expr('H21'), expr('H31'), expr('H41') #bottom row\n",
    "H12, H22, H32, H42 = expr('H12'), expr('H22'), expr('H32'), expr('H42') \n",
    "H13, H23, H33, H43 = expr('H13'), expr('H23'), expr('H33'), expr('H43')\n",
    "H14, H24, H34, H44 = expr('H14'), expr('H24'), expr('H34'), expr('H44') # top row \n",
    "\n",
    "\n",
    "# Hurkle Location \n",
    "Hurkle_location = H21\n",
    "\n",
    "# We tell the KB the location\n",
    "hurkleWorld.tell(Hurkle_location)\n",
    "\n",
    "# Wrong Guess\n",
    "guess = H42\n",
    "\n",
    "# Is Hurkle's state guessed correctly?\n",
    "hurkleWorld.ask_if_true(guess), hurkleWorld.ask_if_true(~guess)\n",
    "\n",
    "\n"
   ]
  },
  {
   "cell_type": "markdown",
   "metadata": {},
   "source": [
    "\n",
    "\n",
    "#### Task 2 \n",
    "In this Hurkle game environment, we implement a crucial constraint: the Hurkle can occupy only one square at a time. This **mutual exclusion principle** is encoded into our knowledge base (KB), significantly enhancing the inference system's capabilities.\n",
    "\n",
    "The KB now contains not only the Hurkle's true location (e.g., `H21`) but also the logical implication that all other locations must be false. This is achieved through a **mutual exclusion clause** stating that if `H21` is true, then all other locations are false. Here’s a more detailed breakdown of how this works:\n",
    "\n",
    "- **Logical Symbols for Constraints**: We use logical symbols, specifically **conjunction** (AND, `&`) and **negation** (NOT, `~`), to enforce the rule that the Hurkle can occupy only one square at a time.\n",
    "  \n",
    "- **Mutual Exclusion Clause**: This clause is constructed using negations to represent all locations other than the true Hurkle location. It effectively states that if the Hurkle is at one specific position, it cannot be at any other. This is expressed as:\n",
    "  \n",
    "\n",
    " NOT location1 AND NOT location2\n",
    "\n",
    "\n",
    "- **Implication Rule**: Using the implication symbol (`==>`), we add a rule to the knowledge base that asserts that if the Hurkle is in its true location, it must not be in any other location.\n",
    "\n",
    "As a result, when we query the KB about any location (e.g., `H42`) using `ask_if_true()`, the system can accurately infer whether it is true or false. If `H21` is true, the KB can deduce that `H42` must be false, demonstrating the power of logical inference with properly defined constraints.\n",
    "\n",
    "\n",
    "\n"
   ]
  },
  {
   "cell_type": "code",
   "execution_count": 26,
   "metadata": {},
   "outputs": [
    {
     "name": "stdout",
     "output_type": "stream",
     "text": [
      "H21\n",
      "(~H11 | ~H21)\n",
      "(~H31 | ~H21)\n",
      "(~H41 | ~H21)\n",
      "(~H12 | ~H21)\n",
      "(~H22 | ~H21)\n",
      "(~H32 | ~H21)\n",
      "(~H42 | ~H21)\n",
      "(~H13 | ~H21)\n",
      "(~H23 | ~H21)\n",
      "(~H33 | ~H21)\n",
      "(~H43 | ~H21)\n",
      "(~H14 | ~H21)\n",
      "(~H24 | ~H21)\n",
      "(~H34 | ~H21)\n",
      "(~H44 | ~H21)\n"
     ]
    },
    {
     "data": {
      "text/plain": [
       "(False, True)"
      ]
     },
     "execution_count": 26,
     "metadata": {},
     "output_type": "execute_result"
    }
   ],
   "source": [
    "from logic import *\n",
    "\n",
    "# Call the KB\n",
    "hurkleWorld = PropKB()\n",
    "\n",
    "# Symbol for each possible position in the grid\n",
    "H11, H21, H31, H41 = expr('H11'), expr('H21'), expr('H31'), expr('H41')  # bottom row\n",
    "H12, H22, H32, H42 = expr('H12'), expr('H22'), expr('H32'), expr('H42')\n",
    "H13, H23, H33, H43 = expr('H13'), expr('H23'), expr('H33'), expr('H43')\n",
    "H14, H24, H34, H44 = expr('H14'), expr('H24'), expr('H34'), expr('H44')  # top row\n",
    "hurkle_locations = [H11, H21, H31, H41, H12, H22, H32, H42, H13, H23, H33, H43, H14, H24, H34, H44]\n",
    "\n",
    "Hurkle_location = H21  \n",
    "\n",
    "hurkleWorld.tell(Hurkle_location)\n",
    "\n",
    "mutual_exclusion = [~loc for loc in hurkle_locations if loc != Hurkle_location]\n",
    "\n",
    "mutual_exclusion_clause = mutual_exclusion[0]\n",
    "for loc in mutual_exclusion[1:]:\n",
    "    mutual_exclusion_clause &= loc\n",
    "\n",
    "hurkleWorld.tell(Hurkle_location | '==>' | mutual_exclusion_clause)\n",
    "for fact in hurkleWorld.clauses:\n",
    "    print(fact)\n",
    "# Make a guess\n",
    "guess = H42\n",
    "hurkleWorld.ask_if_true(guess), hurkleWorld.ask_if_true(~guess)\n",
    "\n",
    "\n"
   ]
  },
  {
   "cell_type": "markdown",
   "metadata": {},
   "source": [
    "#### Task 3: Implementing Directional Guidance in the Hurkle Game\n",
    "\n",
    "With the mutual exclusion constraint defined, the player can now receive directional hints towards the Hurkle based on their guess location. We use **eight directional symbols** (N, S, W, E, NE, SE, SW, NW), represented using `expr()` and stored in a list for efficient access.\n",
    "\n",
    "To determine the correct direction between the Hurkle's and player's locations, we implemented a `directions()` function. This function calculates the relative direction of the player's guess and then calls `tell_directions()`, a helper function that updates the knowledge base with the correct direction.\n",
    "\n",
    "The `tell_directions()` function performs two key actions:\n",
    "\n",
    "1. **Adding the Correct Direction**: It asserts the correct direction (e.g., SE) into the knowledge base.\n",
    "2. **Applying Mutual Exclusion**: It uses a logical clause to state that if one direction is true, all others must be false. This is achieved with logical **AND** (`&`) and **negation** (`~`) operators, similar to the approach used in the previous task.\n",
    "\n",
    "The system relies on logical inference to update and confirm directional information. By calling `ask_if_true()`, we can query if a specific direction is correct based on the knowledge base’s state. For instance, if the Hurkle is at location 'H21' and the player's guess is at 'H42', the system determines that **Southeast (SE)** is the correct direction, marks SE as true, and negates all other directions. This ensures that when queried, only SE is confirmed as accurate.\n",
    "\n",
    "After setting the Hurkle's location and making a guess, we can view the updated knowledge base and check various directions using `ask_if_true()`. \n",
    "\n",
    "\n",
    "The implementation is efficient and avoids the **\\(2^n\\)** combinatorial explosion common in exhaustive constraint systems. Instead of generating all combinations, this method directly asserts a single true direction and negates the rest, making the logic scalable. \n",
    "Below is the code used for this task and an example of querying the knowledge base for directional hints.\n",
    "\n",
    "\n"
   ]
  },
  {
   "cell_type": "code",
   "execution_count": 2,
   "metadata": {},
   "outputs": [
    {
     "name": "stdout",
     "output_type": "stream",
     "text": [
      "Hurkle Location: (2, 1), Guess Location: (4, 2)\n",
      "Current facts in Hurkle_kb:\n",
      "SE\n",
      "(~N | ~SE)\n",
      "(~S | ~SE)\n",
      "(~W | ~SE)\n",
      "(~E | ~SE)\n",
      "(~NE | ~SE)\n",
      "(~SW | ~SE)\n",
      "(~NW | ~SE)\n",
      "Is the Hurkle in the North-West? False True\n",
      "Is N true? False True\n",
      "Is S true? False True\n",
      "Is W true? False True\n",
      "Is E true? False True\n",
      "Is NE true? False True\n",
      "Is SE true? True False\n",
      "Is SW true? False True\n"
     ]
    }
   ],
   "source": [
    "# Symbols for direction\n",
    "from logic import PropKB, expr\n",
    "\n",
    "N, S, W, E = expr('N'), expr('S'), expr('W'), expr('E')\n",
    "NE, SE, SW, NW = expr('NE'), expr('SE'), expr('SW'), expr('NW')\n",
    "directions_list = [N, S, W, E, NE, SE, SW, NW]\n",
    "\n",
    "hurkleWorld = PropKB()\n",
    "\n",
    "def directions(hurkle_location, guess_location):\n",
    "    hx, hy = int(hurkle_location[1]), int(hurkle_location[2])\n",
    "    gx, gy = int(guess_location[1]), int(guess_location[2])\n",
    "    \n",
    "    print(f\"Hurkle Location: ({hx}, {hy}), Guess Location: ({gx}, {gy})\")\n",
    "\n",
    "    def tell_directions(correct_direction):\n",
    "        hurkleWorld.tell(correct_direction)\n",
    "        incorrect_directions = [~direction for direction in directions_list if direction != correct_direction]\n",
    "        \n",
    "\n",
    "        mutual_exclusion_clause = expr(' & '.join([str(direction) for direction in incorrect_directions])) \n",
    "\n",
    "        hurkleWorld.tell(correct_direction | '==>' | mutual_exclusion_clause)\n",
    "\n",
    "    # Determine the direction\n",
    "    if hx < gx and hy == gy: \n",
    "        tell_directions(E)  # Move East\n",
    "    elif hx > gx and hy == gy: \n",
    "        tell_directions(W)  # Move West\n",
    "    elif hy < gy and hx == gx: \n",
    "        tell_directions(S)  # Move South\n",
    "    elif hy > gy and hx == gx: \n",
    "        tell_directions(N)  # Move North\n",
    "    elif hx < gx and hy < gy:\n",
    "        tell_directions(SE)  # Move South-East\n",
    "    elif hx < gx and hy > gy:\n",
    "        tell_directions(NW)  # Move North-West\n",
    "    elif hx > gx and hy < gy:\n",
    "        tell_directions(SW)  # Move South-West\n",
    "    elif hx > gx and hy > gy:\n",
    "        tell_directions(NE)  # Move North-East\n",
    "\n",
    "# Set locations\n",
    "hurkle_location = 'H21'  # location of H\n",
    "guess_location = 'H42'    # Guess Location\n",
    "# Add directional rules based on locations\n",
    "directions(hurkle_location, guess_location)\n",
    "\n",
    "# Print current facts in the knowledge base\n",
    "print(\"Current facts in Hurkle_kb:\")\n",
    "for fact in hurkleWorld.clauses:\n",
    "    print(fact)\n",
    "\n",
    "# Check NW direction and its negation\n",
    "print(\"Is the Hurkle in the North-West?\", hurkleWorld.ask_if_true(NW), hurkleWorld.ask_if_true(~NW))  \n",
    "\n",
    "# Now let us check all other directions\n",
    "for direction in [N, S, W, E, NE, SE, SW]:\n",
    "    print(f\"Is {direction} true?\", hurkleWorld.ask_if_true(direction), hurkleWorld.ask_if_true(~direction))\n"
   ]
  }
 ],
 "metadata": {
  "kernelspec": {
   "display_name": "AIMA",
   "language": "python",
   "name": "python3"
  },
  "language_info": {
   "codemirror_mode": {
    "name": "ipython",
    "version": 3
   },
   "file_extension": ".py",
   "mimetype": "text/x-python",
   "name": "python",
   "nbconvert_exporter": "python",
   "pygments_lexer": "ipython3",
   "version": "3.10.14"
  }
 },
 "nbformat": 4,
 "nbformat_minor": 2
}
