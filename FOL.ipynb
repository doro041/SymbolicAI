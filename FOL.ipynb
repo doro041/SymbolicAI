{
 "cells": [
  {
   "cell_type": "markdown",
   "metadata": {},
   "source": [
    "##### Task 2 \n",
    "* First-Order Logic Knowledge-based System which will be based on the following paragraph and will answer the question : Will Simone Biles win a Gold Medal?:\n",
    "\n",
    "\n",
    "\n",
    "<em>Olympians who are physically and mentally healthy win gold medals. Persons who eat healthy, sleep well\n",
    "and exercise regularly are always physically healthy. Persons who have positive friends and watch less\n",
    "TV are always mentally healthy. Sports persons have positive friends. Sports persons always do a lot of\n",
    "physical exercise and always eat a healthy diet. Sports persons always watch less TV. Simone Biles is a\n",
    "gymnast and an Olympian. She sleeps well.<em>"
   ]
  },
  {
   "cell_type": "code",
   "execution_count": 15,
   "metadata": {},
   "outputs": [
    {
     "name": "stdout",
     "output_type": "stream",
     "text": [
      "\u001b[31mERROR: Could not find a version that satisfies the requirement aima-python (from versions: none)\u001b[0m\u001b[31m\n",
      "\u001b[0m\u001b[31mERROR: No matching distribution found for aima-python\u001b[0m\u001b[31m\n",
      "\u001b[0mNote: you may need to restart the kernel to use updated packages.\n"
     ]
    }
   ],
   "source": [
    "%pip install aima-python\n",
    "from utils import *\n",
    "from logic import *\n",
    "from agents import *\n",
    "from search import * \n",
    "from csp import *"
   ]
  },
  {
   "cell_type": "markdown",
   "metadata": {},
   "source": [
    "To accomplish this, we will store the clauses in a list, following the approach used in the Logic.ipynb from the AIMA framework."
   ]
  },
  {
   "cell_type": "code",
   "execution_count": 16,
   "metadata": {},
   "outputs": [],
   "source": [
    "clauses = []"
   ]
  },
  {
   "cell_type": "markdown",
   "metadata": {},
   "source": [
    "Let's begin with the first sentence: <em>\"Olympians who are physically and mentally healthy win gold medals.\"<em>\n",
    "\n",
    "In AIMA's framework, we omit the universal quantifier (∀x), so the First-Order Logic (FOL) representation of this statement will be:\n",
    "\n",
    "(Olympian(x) ∧ PhysicallyHealthy(x) ∧ MentallyHealthy(x)) → WinsGoldMedal(x)\n",
    "\n",
    "This expression establishes the condition for winning a gold medal."
   ]
  },
  {
   "cell_type": "code",
   "execution_count": 17,
   "metadata": {},
   "outputs": [],
   "source": [
    "\n",
    "# Olympians who are physically and mentally healthy win gold medals\n",
    "clauses.append(expr(\"(Olympian(x) & PhysicallyHealthy(x) & MentallyHealthy(x)) ==> WinsGoldMedal(x)\"))"
   ]
  },
  {
   "cell_type": "markdown",
   "metadata": {},
   "source": [
    "The next sentence is , <em>\"Persons who eat healthy, sleep well\n",
    "and exercise regularly are always physically healthy.\"<em>\n",
    "Following the same logic:\n",
    "\n",
    " [(EatsHealthy(x) ∧ SleepsWell(x) ∧ ExercisesRegularly(x)) → PhysicallyHealthy(x)]\n",
    "\n",
    " \n",
    " This provides the condition for Physical Health.\n"
   ]
  },
  {
   "cell_type": "code",
   "execution_count": 18,
   "metadata": {},
   "outputs": [],
   "source": [
    "# Persons who eat healthy, sleep well and exercise regularly are always physically healthy\n",
    "clauses.append(expr(\"(EatsHealthy(x) & SleepsWell(x) & ExercisesRegularly(x)) ==> PhysicallyHealthy(x)\"))"
   ]
  },
  {
   "cell_type": "markdown",
   "metadata": {},
   "source": [
    "<em>Persons who have positive friends and watch less TV are always mentally healthy.<em>\n",
    "\n",
    "FOL: ∀x [(HasPositiveFriends(x) ∧ WatchesLessTV(x)) → MentallyHealthy(x)]\n",
    "\n",
    "This is the conditions for being mentally healthy."
   ]
  },
  {
   "cell_type": "code",
   "execution_count": 19,
   "metadata": {},
   "outputs": [],
   "source": [
    "#Persons who have positive friends and watch less TV are always mentally healthy.\n",
    "clauses.append(expr(\"(HasPositiveFriends(x) & WatchesLessTV(x)) ==> MentallyHealthy(x)\"))"
   ]
  },
  {
   "cell_type": "markdown",
   "metadata": {},
   "source": [
    "<em>\"Sports persons have positive friends.\"<em>\n",
    "\n",
    "\n",
    "This is a characteristic of sports persons.\n",
    "\n",
    "FOL: ∀x [SportsPerson(x) → HasPositiveFriends(x)]"
   ]
  },
  {
   "cell_type": "code",
   "execution_count": 20,
   "metadata": {},
   "outputs": [],
   "source": [
    "# Sports persons have positive friends.\n",
    "\n",
    "clauses.append(expr(\"SportsPerson(x) ==> HasPositiveFriends(x)\"))"
   ]
  },
  {
   "cell_type": "markdown",
   "metadata": {},
   "source": [
    " <em>\"Sports persons always do a lot of\n",
    "physical exercise and always eat a healthy diet.\"<em>\n",
    "\n",
    "In our FOL knowledge base, we must break this down into atomic sentences. This means that both PhysicalExercise(x) and EatsHealthy(x) need to be treated as separate statements. The First-Order Logic (FOL) representation becomes:\n",
    "\n",
    "FOL: ∀x [SportsPerson(x) → PhysicalExercise(x) ]\n",
    "FOL: ∀x [SportsPerson(x) → EatsHealthy(x) ]"
   ]
  },
  {
   "cell_type": "code",
   "execution_count": 21,
   "metadata": {},
   "outputs": [],
   "source": [
    "# Sports persons always do a lot of\n",
    "#physical exercise and always eat a healthy diet.\n",
    "\n",
    "clauses.append(expr(\"SportsPerson(x) ==> ExercisesRegularly(x)\"))\n",
    "clauses.append(expr(\"SportsPerson(x) ==> EatsHealthy(x)\"))\n",
    "                  \n"
   ]
  },
  {
   "cell_type": "markdown",
   "metadata": {},
   "source": [
    " <em>\"Sports persons always watch less TV.\"<em>\n",
    "\n",
    "\n",
    "FOL: ∀x [SportsPerson(x) →WatchesLessTV(x)]"
   ]
  },
  {
   "cell_type": "code",
   "execution_count": 22,
   "metadata": {},
   "outputs": [],
   "source": [
    "# Sports persons always watch less TV\n",
    "clauses.append(expr(\"SportsPerson(x) ==> WatchesLessTV(x)\"))"
   ]
  },
  {
   "cell_type": "markdown",
   "metadata": {},
   "source": [
    "We can include facts like: <en>\"A gymnast is a sports person.\"<em>, as a general knowledge rule.\n",
    "\n",
    "In First-Order Logic (FOL), this statement would be represented as:\n",
    "\n",
    "Gymnast(x) → SportsPerson(x)\n",
    "\n",
    "This establishes the relationship that any gymnast is also a sports person, which helps build the knowledge base for further reasoning.\n"
   ]
  },
  {
   "cell_type": "code",
   "execution_count": 23,
   "metadata": {},
   "outputs": [],
   "source": [
    "# \"A gymnast is a sports person.\"\n",
    "clauses.append(expr(\"Gymnast(x) ==> SportsPerson(x)\"))"
   ]
  },
  {
   "cell_type": "markdown",
   "metadata": {},
   "source": [
    "<em>\"Simone Biles is a gymnast and an Olympian\"<em> \n",
    "\n",
    "Since we need to use the Horn Clause we will split the positive literals in two, as such:\n",
    "\n",
    "Gymnast(SimoneBiles)\n",
    "\n",
    "Olympian(SimoneBiles)"
   ]
  },
  {
   "cell_type": "code",
   "execution_count": 24,
   "metadata": {},
   "outputs": [],
   "source": [
    "#\"Simone Biles is a gymnast and an Olympian\n",
    "clauses.append(expr(\"Gymnast(SimoneBiles)\"))\n",
    "clauses.append(expr(\"Olympian(SimoneBiles)\"))\n"
   ]
  },
  {
   "cell_type": "markdown",
   "metadata": {},
   "source": [
    "<em>\"Simone Byles sleeps well.<em> \n",
    "\n",
    "\n",
    "\n",
    "SleepsWell(SimoneByles)"
   ]
  },
  {
   "cell_type": "code",
   "execution_count": 25,
   "metadata": {},
   "outputs": [],
   "source": [
    "#\"Simone Biles sleeps well\n",
    "clauses.append(expr(\"SleepsWell(SimoneBiles)\"))"
   ]
  },
  {
   "cell_type": "markdown",
   "metadata": {},
   "source": [
    "From a logical stand point and from general knowledge we can deduce that all sport people are olympians."
   ]
  },
  {
   "cell_type": "code",
   "execution_count": 26,
   "metadata": {},
   "outputs": [],
   "source": [
    "# All sport people are olympians.\n",
    "clauses.append(expr(\"Olympian(x) ==> SportsPerson(x)\"))"
   ]
  },
  {
   "cell_type": "code",
   "execution_count": 27,
   "metadata": {},
   "outputs": [
    {
     "data": {
      "text/plain": [
       "[(((Olympian(x) & PhysicallyHealthy(x)) & MentallyHealthy(x)) ==> WinsGoldMedal(x)),\n",
       " (((EatsHealthy(x) & SleepsWell(x)) & ExercisesRegularly(x)) ==> PhysicallyHealthy(x)),\n",
       " ((HasPositiveFriends(x) & WatchesLessTV(x)) ==> MentallyHealthy(x)),\n",
       " (SportsPerson(x) ==> HasPositiveFriends(x)),\n",
       " (SportsPerson(x) ==> ExercisesRegularly(x)),\n",
       " (SportsPerson(x) ==> EatsHealthy(x)),\n",
       " (SportsPerson(x) ==> WatchesLessTV(x)),\n",
       " (Gymnast(x) ==> SportsPerson(x)),\n",
       " Gymnast(SimoneBiles),\n",
       " Olympian(SimoneBiles),\n",
       " SleepsWell(SimoneBiles),\n",
       " (Olympian(x) ==> SportsPerson(x))]"
      ]
     },
     "execution_count": 27,
     "metadata": {},
     "output_type": "execute_result"
    }
   ],
   "source": [
    "clauses"
   ]
  },
  {
   "cell_type": "markdown",
   "metadata": {},
   "source": [
    " Now that we have gathered all statements, we can ask the forward chaining algorithm, if Simone Biles is going to win a Gold Medal. With all the clauses and the added general knowledge, it should print out that x is Simone Biles."
   ]
  },
  {
   "cell_type": "code",
   "execution_count": 28,
   "metadata": {},
   "outputs": [
    {
     "name": "stdout",
     "output_type": "stream",
     "text": [
      "[{x: SimoneBiles}]\n"
     ]
    }
   ],
   "source": [
    "\n",
    "simone_biles_kb = FolKB(clauses)\n",
    "\n",
    "# Querying the knowledge base for who wins a gold medal\n",
    "answer = fol_fc_ask(simone_biles_kb, expr('WinsGoldMedal(x)'))\n",
    "\n",
    "\n",
    "print(list(answer))\n"
   ]
  }
 ],
 "metadata": {
  "kernelspec": {
   "display_name": "AIMA",
   "language": "python",
   "name": "python3"
  },
  "language_info": {
   "codemirror_mode": {
    "name": "ipython",
    "version": 3
   },
   "file_extension": ".py",
   "mimetype": "text/x-python",
   "name": "python",
   "nbconvert_exporter": "python",
   "pygments_lexer": "ipython3",
   "version": "3.10.14"
  }
 },
 "nbformat": 4,
 "nbformat_minor": 2
}
